{
 "cells": [
  {
   "cell_type": "code",
   "execution_count": 2,
   "metadata": {},
   "outputs": [],
   "source": [
    "import xarray as xr\n",
    "import torch\n",
    "import numpy as np\n",
    "import matplotlib.pyplot as plt\n",
    "import os"
   ]
  },
  {
   "cell_type": "code",
   "execution_count": 20,
   "metadata": {},
   "outputs": [
    {
     "name": "stdout",
     "output_type": "stream",
     "text": [
      "/cluster/work/math/camlab-data/rigno-unstructured/wave_c_sines.nc\n"
     ]
    }
   ],
   "source": [
    "base_path = \"/cluster/work/math/camlab-data/rigno-unstructured\"\n",
    "dataset_name = \"wave_c_sines\"\n",
    "dataset_path = os.path.join(base_path, f\"{dataset_name}.nc\")\n",
    "\n",
    "print(dataset_path)"
   ]
  },
  {
   "cell_type": "code",
   "execution_count": 21,
   "metadata": {},
   "outputs": [
    {
     "name": "stdout",
     "output_type": "stream",
     "text": [
      "(5000, 21, 16431, 1)\n",
      "(1, 1, 16431, 2)\n"
     ]
    }
   ],
   "source": [
    "with xr.open_dataset(dataset_path) as ds:\n",
    "    u_array = ds[\"u\"]\n",
    "    x_array = ds[\"x\"]\n",
    "print(u_array.shape)\n",
    "print(x_array.shape)"
   ]
  },
  {
   "cell_type": "code",
   "execution_count": 3,
   "metadata": {},
   "outputs": [],
   "source": [
    "path = \"dataset/wave_dataset_0_1000.npz\"\n",
    "wave_data = np.load(path)"
   ]
  },
  {
   "cell_type": "code",
   "execution_count": 4,
   "metadata": {},
   "outputs": [
    {
     "name": "stdout",
     "output_type": "stream",
     "text": [
      "NpzFile 'dataset/wave_dataset_0_1000.npz' with keys: x, y, u0, u, dt\n"
     ]
    }
   ],
   "source": [
    "print(wave_data)\n",
    "wave_x = wave_data[\"x\"]\n",
    "wave_y = wave_data[\"y\"]\n",
    "wave_u0= wave_data[\"u0\"]\n",
    "wave_u = wave_data[\"u\"]\n",
    "wave_dt= wave_data[\"dt\"]"
   ]
  },
  {
   "cell_type": "code",
   "execution_count": 5,
   "metadata": {},
   "outputs": [
    {
     "name": "stdout",
     "output_type": "stream",
     "text": [
      "(16431,)\n",
      "(16431,)\n",
      "(16431, 1000)\n",
      "(1000, 100, 16431)\n",
      "0.001\n",
      "-0.499971891370623\n",
      "1.5\n",
      "-0.4999929728179651\n",
      "1.499992972817965\n",
      "float64\n"
     ]
    }
   ],
   "source": [
    "print(wave_x.shape)\n",
    "print(wave_y.shape)\n",
    "print(wave_u0.shape)\n",
    "print(wave_u.shape)\n",
    "print(wave_dt)\n",
    "print(wave_x.min())\n",
    "print(wave_x.max())\n",
    "print(wave_y.min())\n",
    "print(wave_y.max())\n",
    "print(wave_u.dtype)"
   ]
  },
  {
   "cell_type": "code",
   "execution_count": 25,
   "metadata": {},
   "outputs": [
    {
     "data": {
      "text/plain": [
       "True"
      ]
     },
     "execution_count": 25,
     "metadata": {},
     "output_type": "execute_result"
    }
   ],
   "source": [
    "np.allclose(wave_u0.T,wave_u[:,0,:])"
   ]
  }
 ],
 "metadata": {
  "kernelspec": {
   "display_name": "rigno",
   "language": "python",
   "name": "python3"
  },
  "language_info": {
   "codemirror_mode": {
    "name": "ipython",
    "version": 3
   },
   "file_extension": ".py",
   "mimetype": "text/x-python",
   "name": "python",
   "nbconvert_exporter": "python",
   "pygments_lexer": "ipython3",
   "version": "3.11.6"
  },
  "orig_nbformat": 4
 },
 "nbformat": 4,
 "nbformat_minor": 2
}
