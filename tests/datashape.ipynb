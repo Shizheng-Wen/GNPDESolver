{
 "cells": [
  {
   "cell_type": "code",
   "execution_count": 3,
   "metadata": {},
   "outputs": [],
   "source": [
    "import xarray as xr\n",
    "import os"
   ]
  },
  {
   "cell_type": "code",
   "execution_count": 2,
   "metadata": {},
   "outputs": [],
   "source": [
    "base_path = \"/cluster/work/math/camlab-data/rigno-unstructured/\""
   ]
  },
  {
   "cell_type": "code",
   "execution_count": 5,
   "metadata": {},
   "outputs": [
    {
     "data": {
      "text/plain": [
       "['NS-SL.nc',\n",
       " 'CE-Gauss.nc',\n",
       " 'NS-SVS.nc',\n",
       " 'ACE.nc',\n",
       " 'poisson_c_sines.nc',\n",
       " 'readme.md',\n",
       " 'Wave-Layer.nc',\n",
       " 'airfoil_grid.nc',\n",
       " '.DS_Store',\n",
       " 'NS-PwC.nc',\n",
       " 'airfoil_li.nc',\n",
       " 'wave_c_sines.nc',\n",
       " 'CE-RP.nc',\n",
       " 'heat_l_sines.nc',\n",
       " 'elasticity.nc',\n",
       " 'airfoil_li_large.nc',\n",
       " 'NS-Gauss.nc',\n",
       " 'Poisson-Gauss.nc']"
      ]
     },
     "execution_count": 5,
     "metadata": {},
     "output_type": "execute_result"
    }
   ],
   "source": [
    "os.listdir(base_path)"
   ]
  },
  {
   "cell_type": "code",
   "execution_count": 8,
   "metadata": {},
   "outputs": [
    {
     "name": "stdout",
     "output_type": "stream",
     "text": [
      "<xarray.Dataset> Size: 8GB\n",
      "Dimensions:  (phony_dim_0: 3000, phony_dim_1: 21, phony_dim_2: 16384,\n",
      "              phony_dim_3: 2, phony_dim_4: 1, phony_dim_5: 1)\n",
      "Dimensions without coordinates: phony_dim_0, phony_dim_1, phony_dim_2,\n",
      "                                phony_dim_3, phony_dim_4, phony_dim_5\n",
      "Data variables:\n",
      "    u        (phony_dim_0, phony_dim_1, phony_dim_2, phony_dim_3) float32 8GB ...\n",
      "    x        (phony_dim_4, phony_dim_5, phony_dim_2, phony_dim_3) float64 262kB ...\n"
     ]
    }
   ],
   "source": [
    "ds = xr.load_dataset(base_path + \"NS-SL\" + \".nc\")\n",
    "print(ds)"
   ]
  },
  {
   "cell_type": "code",
   "execution_count": 9,
   "metadata": {},
   "outputs": [
    {
     "name": "stdout",
     "output_type": "stream",
     "text": [
      "(3000, 21, 16384, 2)\n"
     ]
    }
   ],
   "source": [
    "u = ds[\"u\"]\n",
    "print(u.shape)"
   ]
  },
  {
   "cell_type": "code",
   "execution_count": null,
   "metadata": {},
   "outputs": [],
   "source": [
    "print(u[0,:,])"
   ]
  }
 ],
 "metadata": {
  "kernelspec": {
   "display_name": "rigno",
   "language": "python",
   "name": "python3"
  },
  "language_info": {
   "codemirror_mode": {
    "name": "ipython",
    "version": 3
   },
   "file_extension": ".py",
   "mimetype": "text/x-python",
   "name": "python",
   "nbconvert_exporter": "python",
   "pygments_lexer": "ipython3",
   "version": "3.11.6"
  },
  "orig_nbformat": 4
 },
 "nbformat": 4,
 "nbformat_minor": 2
}
