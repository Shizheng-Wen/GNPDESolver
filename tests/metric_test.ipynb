{
 "cells": [
  {
   "cell_type": "code",
   "execution_count": 3,
   "metadata": {},
   "outputs": [
    {
     "name": "stdout",
     "output_type": "stream",
     "text": [
      "NpzFile 'metric-validation.npz' with keys: u_gtr, u_prd, global_mean, global_std, err\n"
     ]
    }
   ],
   "source": [
    "import numpy as np\n",
    "\n",
    "mv_data = np.load(\"metric-validation.npz\")\n",
    "print(mv_data)"
   ]
  },
  {
   "cell_type": "code",
   "execution_count": 4,
   "metadata": {},
   "outputs": [],
   "source": [
    "import sys\n",
    "sys.path.append(\"../\")\n",
    "from trainers.utils.cal_metric import compute_batch_errors, compute_final_metric\n"
   ]
  },
  {
   "cell_type": "code",
   "execution_count": 6,
   "metadata": {},
   "outputs": [
    {
     "name": "stdout",
     "output_type": "stream",
     "text": [
      "u_gtr: (4, 1, 14047, 1)\n",
      "u_prd: (4, 1, 14047, 1)\n",
      "global_mean: [-0.0093991]\n",
      "global_std: [0.02007981]\n",
      "err: [0.00080858 0.00069958 0.0006814  0.00056803]\n"
     ]
    }
   ],
   "source": [
    "print(\"u_gtr:\", mv_data[\"u_gtr\"].shape)\n",
    "print(\"u_prd:\", mv_data[\"u_prd\"].shape)\n",
    "print(\"global_mean:\", mv_data[\"global_mean\"])\n",
    "print(\"global_std:\", mv_data[\"global_std\"])\n",
    "print(\"err:\", mv_data[\"err\"])"
   ]
  },
  {
   "cell_type": "code",
   "execution_count": 10,
   "metadata": {},
   "outputs": [
    {
     "name": "stdout",
     "output_type": "stream",
     "text": [
      "error: [[0.00080858]\n",
      " [0.00069959]\n",
      " [0.0006814 ]\n",
      " [0.00056803]]\n"
     ]
    }
   ],
   "source": [
    "gtr = mv_data[\"u_gtr\"]\n",
    "prd = mv_data[\"u_prd\"]\n",
    "mean = mv_data[\"global_mean\"]\n",
    "std = mv_data[\"global_std\"]\n",
    "\n",
    "gtr_norm = (gtr - mean) / std\n",
    "prd_norm = (prd - mean) / std\n",
    "\n",
    "abs_error = np.abs(gtr_norm - prd_norm)  # Shape: [batch_size, time, space, var]\n",
    "error_sum = np.sum(abs_error, axis=(1, 2)) \n",
    "\n",
    "gtr_abs_sum = np.sum(np.abs(gtr_norm), axis=(1, 2))\n",
    "\n",
    "error = error_sum / gtr_abs_sum\n",
    "print(\"error:\", error)\n"
   ]
  },
  {
   "cell_type": "code",
   "execution_count": null,
   "metadata": {},
   "outputs": [],
   "source": []
  }
 ],
 "metadata": {
  "kernelspec": {
   "display_name": "neuralop",
   "language": "python",
   "name": "python3"
  },
  "language_info": {
   "codemirror_mode": {
    "name": "ipython",
    "version": 3
   },
   "file_extension": ".py",
   "mimetype": "text/x-python",
   "name": "python",
   "nbconvert_exporter": "python",
   "pygments_lexer": "ipython3",
   "version": "3.10.14"
  }
 },
 "nbformat": 4,
 "nbformat_minor": 2
}
